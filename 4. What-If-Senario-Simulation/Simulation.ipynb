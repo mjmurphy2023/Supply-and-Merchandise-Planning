{
 "cells": [
  {
   "cell_type": "markdown",
   "id": "be824609",
   "metadata": {},
   "source": [
    "# Simulation Notebook"
   ]
  },
  {
   "cell_type": "markdown",
   "id": "ef7bd791-185b-42fc-99ab-03dfab34683a",
   "metadata": {},
   "source": [
    "- 1.1. Data Preparation\n",
    "- 1.1.1. Import Necessary Libraries\n",
    "- 1.2. Load and Validate Input Data\n",
    "- 1.2.1. Load CSV Files\n",
    "- 1.2.2. Validate and Clean Data\n",
    "- 1.2.3. Merge DataFrames\n",
    "- 1.3. Adjust Labor Capacity Calculations\n",
    "- 1.3.1. Define Accurate Labor Capacity\n",
    "- 1.3.2. Calculate Machine Capacity\n",
    "- 1.3.3. Ensure Time Units and Consistency\n",
    "- 1.4. Refine the Production Process Modeling\n",
    "- 1.4.1. Define Production Process with Priority\n",
    "- 1.5. Recalculate Utilization Rates\n",
    "- 1.5.1. Correct Utilization Calculations\n",
    "- 1.6. Implement Enhanced Simulation with Tweaks\n",
    "- 1.6.1. Define the Main Simulation Function\n",
    "- 1.6.2. Update Event Functions\n",
    "- 1.6.3. Helper Functions\n",
    "- 1.7. Run Simulations for Each Scenario\n",
    "- 1.8. Analyze and Present Results\n",
    "- 1.8.1. Print KPI Results\n",
    "- 1.8.2. Visualize Results\n"
   ]
  },
  {
   "cell_type": "markdown",
   "id": "5b674446-121f-451e-90e2-d8c0443a9f88",
   "metadata": {},
   "source": [
    "## Data Preparation"
   ]
  },
  {
   "cell_type": "markdown",
   "id": "d6425fa8-646a-4d78-ba65-d2e9515590cc",
   "metadata": {},
   "source": [
    "### Import Necessary Libraries"
   ]
  },
  {
   "cell_type": "code",
   "execution_count": 1,
   "id": "f8afd565",
   "metadata": {},
   "outputs": [],
   "source": [
    "import pandas as pd\n",
    "import simpy\n",
    "import numpy as np\n",
    "import matplotlib.pyplot as plt\n",
    "import math"
   ]
  },
  {
   "cell_type": "markdown",
   "id": "499cbbfa-5534-4dea-a216-cd2382dbfabb",
   "metadata": {},
   "source": [
    "## Load and Validate Input Data"
   ]
  },
  {
   "cell_type": "markdown",
   "id": "b0a72537-b04b-454a-8e88-2d60dbe2294b",
   "metadata": {},
   "source": [
    "### Load CSV Files"
   ]
  },
  {
   "cell_type": "code",
   "execution_count": 2,
   "id": "1985b34e",
   "metadata": {},
   "outputs": [],
   "source": [
    "# Load CSV files into DataFrames\n",
    "production_schedule = pd.read_csv('production_schedule.csv')\n",
    "manufacturing = pd.read_csv('manufacturing.csv')\n",
    "bom = pd.read_csv('bom.csv')\n",
    "material_requirements = pd.read_csv('material_requirements.csv')\n",
    "calendar = pd.read_csv('calendar.csv')\n",
    "sales_orders = pd.read_csv('sales_orders.csv')\n",
    "order_line_items = pd.read_csv('order_line_items.csv')"
   ]
  },
  {
   "cell_type": "markdown",
   "id": "9d754632-d010-40d7-b24e-7aeadfaf9b8e",
   "metadata": {},
   "source": [
    "### Validate and Clean Data"
   ]
  },
  {
   "cell_type": "code",
   "execution_count": 3,
   "id": "228b8ac6",
   "metadata": {},
   "outputs": [],
   "source": [
    "# Ensure necessary columns are present\n",
    "required_columns = {\n",
    "    'production_schedule': ['production_schedule_id', 'manufacturing_id', 'product_id', 'planned_start_date', 'planned_end_date', 'planned_quantity'],\n",
    "    'manufacturing': ['manufacturing_id', 'shift_count', 'operating_hours', 'labor_availability', 'machine_count', 'machine_downtime_rate'],\n",
    "    'calendar': ['date', 'is_maintenance_day'],\n",
    "    'sales_orders': ['order_id', 'delivery_date'],\n",
    "    'order_line_items': ['order_id', 'product_id', 'quantity_ordered']\n",
    "}\n",
    "\n",
    "for df_name, cols in required_columns.items():\n",
    "    df = globals()[df_name]\n",
    "    missing_cols = set(cols) - set(df.columns)\n",
    "    if missing_cols:\n",
    "        raise ValueError(f\"Missing columns in {df_name}: {missing_cols}\")\n",
    "\n",
    "# Convert date columns to datetime\n",
    "date_columns = {\n",
    "    'production_schedule': ['planned_start_date', 'planned_end_date'],\n",
    "    'calendar': ['date'],\n",
    "    'sales_orders': ['delivery_date']\n",
    "}\n",
    "\n",
    "for df_name, cols in date_columns.items():\n",
    "    for col in cols:\n",
    "        df = globals()[df_name]\n",
    "        df[col] = pd.to_datetime(df[col], errors='coerce')\n",
    "        if df[col].isnull().any():\n",
    "            raise ValueError(f\"Invalid date in {df_name}.{col}\")\n",
    "\n",
    "# Ensure numerical columns are numeric\n",
    "numerical_columns = {\n",
    "    'production_schedule': ['planned_quantity'],\n",
    "    'manufacturing': ['shift_count', 'operating_hours', 'labor_availability', 'machine_count', 'machine_downtime_rate'],\n",
    "    'order_line_items': ['quantity_ordered']\n",
    "}\n",
    "\n",
    "for df_name, cols in numerical_columns.items():\n",
    "    for col in cols:\n",
    "        df = globals()[df_name]\n",
    "        df[col] = pd.to_numeric(df[col], errors='coerce')\n",
    "        if df[col].isnull().any():\n",
    "            raise ValueError(f\"Null or invalid values found in {df_name}.{col}\")"
   ]
  },
  {
   "cell_type": "markdown",
   "id": "638a5e53-2d6a-4df5-a480-ca17850ac095",
   "metadata": {},
   "source": [
    "### Merge DataFrames"
   ]
  },
  {
   "cell_type": "code",
   "execution_count": 4,
   "id": "3654adb0",
   "metadata": {},
   "outputs": [],
   "source": [
    "# Merge sales_orders with order_line_items to get product_id\n",
    "sales_orders_with_products = pd.merge(\n",
    "    sales_orders,\n",
    "    order_line_items[['order_id', 'product_id', 'quantity_ordered']],\n",
    "    on='order_id',\n",
    "    how='left'\n",
    ")\n",
    "\n",
    "# Merge production_schedule with manufacturing data \n",
    "production_data = pd.merge(\n",
    "    production_schedule,\n",
    "    manufacturing,\n",
    "    on='manufacturing_id',\n",
    "    how='left'\n",
    ")\n",
    "\n",
    "\n",
    "# Merge production_data with sales_orders_with_products on 'product_id'\n",
    "production_data = pd.merge(\n",
    "    production_data,\n",
    "    sales_orders_with_products[['product_id', 'delivery_date']],\n",
    "    on='product_id',\n",
    "    how='left'\n",
    ")\n",
    "\n",
    "\n",
    "# Merge production_data with BOM \n",
    "production_data = pd.merge(\n",
    "    production_data,\n",
    "    bom,\n",
    "    on='product_id',\n",
    "    how='left'\n",
    ")"
   ]
  },
  {
   "cell_type": "code",
   "execution_count": 5,
   "id": "e01dc1d2",
   "metadata": {},
   "outputs": [],
   "source": [
    "# Drop duplicates if any\n",
    "production_data.drop_duplicates(subset=['production_schedule_id'], inplace=True)"
   ]
  },
  {
   "cell_type": "markdown",
   "id": "17dd4d10-1ff1-475d-9b84-afe4796fa0b2",
   "metadata": {},
   "source": [
    "## Labor Capacity Calculations"
   ]
  },
  {
   "cell_type": "markdown",
   "id": "9db00786-dbdf-435e-b43e-ea1cabe0ad9a",
   "metadata": {},
   "source": [
    "### Define Accurate Labor Capacity"
   ]
  },
  {
   "cell_type": "code",
   "execution_count": 6,
   "id": "6f23426b",
   "metadata": {},
   "outputs": [],
   "source": [
    "def calculate_labor_capacity(row):\n",
    "    # Total labor hours available per day\n",
    "    labor_availability = row['labor_availability']  # Should be between 0 and 1\n",
    "    shift_count = row['shift_count']\n",
    "    operating_hours = row['operating_hours']\n",
    "    # Assume total workforce size (adjust based on actual data)\n",
    "    total_labor_force = 50  # Total number of workers available\n",
    "    # Calculate total labor capacity in hours\n",
    "    total_labor_capacity = total_labor_force * operating_hours * shift_count * labor_availability\n",
    "    return total_labor_capacity"
   ]
  },
  {
   "cell_type": "markdown",
   "id": "9670258e-3145-4233-b58c-1fd23c0c47ad",
   "metadata": {},
   "source": [
    "### Calculate Machine Capacity"
   ]
  },
  {
   "cell_type": "code",
   "execution_count": 7,
   "id": "b98db32a",
   "metadata": {},
   "outputs": [],
   "source": [
    "def calculate_machine_capacity(row):\n",
    "    machine_count = row['machine_count']\n",
    "    operating_hours = row['operating_hours']\n",
    "    machine_downtime_rate = row['machine_downtime_rate']  # Should be between 0 and 1\n",
    "    # Calculate total machine capacity in hours\n",
    "    total_machine_capacity = machine_count * operating_hours * (1 - machine_downtime_rate)\n",
    "    return total_machine_capacity"
   ]
  },
  {
   "cell_type": "markdown",
   "id": "af365807-202c-4a42-99af-7baea066b468",
   "metadata": {},
   "source": [
    "### Ensure Time Units and Consistency"
   ]
  },
  {
   "cell_type": "code",
   "execution_count": 8,
   "id": "62c4c11b",
   "metadata": {},
   "outputs": [],
   "source": [
    "# Calculate planned production duration in hours\n",
    "production_data['planned_duration_hours'] = (\n",
    "    (production_data['planned_end_date'] - production_data['planned_start_date']).dt.total_seconds() / 3600\n",
    ")\n",
    "\n",
    "# Ensure no zero or negative durations\n",
    "production_data['planned_duration_hours'] = production_data['planned_duration_hours'].clip(lower=1)"
   ]
  },
  {
   "cell_type": "markdown",
   "id": "98d819a8-daa8-44ee-9b13-30a43fb32f27",
   "metadata": {},
   "source": [
    "## Production Process Modeling"
   ]
  },
  {
   "cell_type": "code",
   "execution_count": 9,
   "id": "5bc63737",
   "metadata": {},
   "outputs": [],
   "source": [
    "# Initialize the simulation environment\n",
    "env = simpy.Environment()\n",
    "\n",
    "# Function to initialize resources\n",
    "def initialize_resources(env, production_data_row):\n",
    "    # Calculate capacities\n",
    "    labor_capacity = calculate_labor_capacity(production_data_row)\n",
    "    machine_capacity = calculate_machine_capacity(production_data_row)\n",
    "    # Define resources with capacities\n",
    "    labor = simpy.PreemptiveResource(env, capacity=int(labor_capacity))\n",
    "    machine = simpy.PreemptiveResource(env, capacity=int(machine_capacity))\n",
    "    return labor, machine"
   ]
  },
  {
   "cell_type": "markdown",
   "id": "fbf4230b-ae3a-46b1-a16f-421f976be322",
   "metadata": {},
   "source": [
    "### Define Production Process with Priority"
   ]
  },
  {
   "cell_type": "code",
   "execution_count": 10,
   "id": "646d5c61",
   "metadata": {},
   "outputs": [],
   "source": [
    "def production_process(env, product_id, quantity, production_time, labor, machine, priority, production_log):\n",
    "    with labor.request(priority=priority) as labor_req, machine.request(priority=priority) as machine_req:\n",
    "        yield labor_req & machine_req\n",
    "        start_time = env.now\n",
    "        yield env.timeout(production_time)\n",
    "        end_time = env.now\n",
    "        # Log production details\n",
    "        production_log.append({\n",
    "            'product_id': product_id,\n",
    "            'start_time': start_time,\n",
    "            'end_time': end_time,\n",
    "            'production_time': production_time,\n",
    "            'quantity': quantity\n",
    "        })"
   ]
  },
  {
   "cell_type": "markdown",
   "id": "f5d4138f-13f7-47b8-96b9-a32baab5622c",
   "metadata": {},
   "source": [
    "## Utilization Rates"
   ]
  },
  {
   "cell_type": "markdown",
   "id": "030f78b2-702b-4411-ad77-2dd3ab5f5140",
   "metadata": {},
   "source": [
    "### Utilization Calculations"
   ]
  },
  {
   "cell_type": "code",
   "execution_count": 11,
   "id": "087531bb",
   "metadata": {},
   "outputs": [],
   "source": [
    "def calculate_kpis(production_results, total_time, labor_capacity, machine_capacity):\n",
    "    # On-Time Delivery Rate\n",
    "    production_results['on_time'] = production_results['end_time'] <= production_results['delivery_deadline']\n",
    "    on_time_delivery_rate = production_results['on_time'].mean() * 100\n",
    "\n",
    "    # Total time labor and machines are busy\n",
    "    total_labor_busy_time = production_results['production_time'].sum()\n",
    "    total_machine_busy_time = production_results['production_time'].sum()\n",
    "\n",
    "    # Utilization rates\n",
    "    labor_utilization = (total_labor_busy_time / (labor_capacity * total_time)) * 100\n",
    "    machine_utilization = (total_machine_busy_time / (machine_capacity * total_time)) * 100\n",
    "\n",
    "    # Average Throughput Time\n",
    "    production_results['throughput_time'] = production_results['end_time'] - production_results['start_time']\n",
    "    average_throughput_time = production_results['throughput_time'].mean()\n",
    "\n",
    "    kpis = {\n",
    "        'on_time_delivery_rate': on_time_delivery_rate,\n",
    "        'machine_utilization': machine_utilization,\n",
    "        'labor_utilization': labor_utilization,\n",
    "        'average_throughput_time': average_throughput_time\n",
    "    }\n",
    "    return kpis"
   ]
  },
  {
   "cell_type": "markdown",
   "id": "4948e648-229e-4ee7-920f-a2c5a024aaac",
   "metadata": {},
   "source": [
    "## Implement Simulation"
   ]
  },
  {
   "cell_type": "markdown",
   "id": "82623980-199c-4415-ae0f-34d19ddd37ee",
   "metadata": {},
   "source": [
    "### Define the Main Simulation Function"
   ]
  },
  {
   "cell_type": "code",
   "execution_count": 12,
   "id": "cf30b1e2",
   "metadata": {},
   "outputs": [],
   "source": [
    "def run_simulation(scenario_name, production_data, demand_factor=1.0, machine_failure=None, labor_shortage=None, prioritize_products=None):\n",
    "    env = simpy.Environment()\n",
    "    production_log = []\n",
    "\n",
    "    # Adjust demand\n",
    "    production_data['adjusted_quantity'] = production_data['planned_quantity'] * demand_factor\n",
    "\n",
    "    # Initialize resources (assuming single set of resources for simplicity)\n",
    "    labor, machine = initialize_resources(env, production_data.iloc[0])\n",
    "\n",
    "    # **Calculate delivery deadline for each production schedule entry**\n",
    "    # Ensure 'delivery_date' and 'planned_start_date' are datetime objects\n",
    "    production_data['delivery_date'] = pd.to_datetime(production_data['delivery_date'], errors='coerce')\n",
    "    production_data['planned_start_date'] = pd.to_datetime(production_data['planned_start_date'], errors='coerce')\n",
    "\n",
    "    # Calculate 'delivery_deadline' in hours from simulation start\n",
    "    production_data['delivery_deadline'] = (\n",
    "        (production_data['delivery_date'] - production_data['planned_start_date']).dt.total_seconds() / 3600\n",
    "    )\n",
    "\n",
    "    # Handle missing or invalid 'delivery_deadline' values\n",
    "    production_data['delivery_deadline'] = production_data['delivery_deadline'].fillna(float('inf'))\n",
    "\n",
    "    # Schedule production processes\n",
    "    for index, row in production_data.iterrows():\n",
    "        # Skip maintenance days\n",
    "        if row['planned_start_date'].date() in calendar[calendar['is_maintenance_day']]['date'].dt.date.values:\n",
    "            continue\n",
    "\n",
    "        # Calculate production time per unit and total production time\n",
    "        production_time_per_unit = row['planned_duration_hours'] / row['planned_quantity']\n",
    "        total_production_time = production_time_per_unit * row['adjusted_quantity']\n",
    "\n",
    "        # Determine priority (lower number means higher priority)\n",
    "        priority = 1 if prioritize_products and row['product_id'] in prioritize_products else 2\n",
    "\n",
    "        # **Use 'delivery_deadline' from production_data**\n",
    "        delivery_deadline = row['delivery_deadline']\n",
    "\n",
    "        # Schedule production process\n",
    "        env.process(\n",
    "            production_process(\n",
    "                env,\n",
    "                product_id=row['product_id'],\n",
    "                quantity=row['adjusted_quantity'],\n",
    "                production_time=total_production_time,\n",
    "                labor=labor,\n",
    "                machine=machine,\n",
    "                priority=priority,\n",
    "                production_log=production_log\n",
    "            )\n",
    "        )\n",
    "\n",
    "    # Implement events for machine failure and labor shortage\n",
    "    if machine_failure:\n",
    "        env.process(machine_failure_event(env, machine, **machine_failure))\n",
    "    if labor_shortage:\n",
    "        env.process(labor_shortage_event(env, labor, **labor_shortage))\n",
    "\n",
    "    # Run the simulation\n",
    "    env.run()\n",
    "\n",
    "    # Convert production_log to DataFrame\n",
    "    production_results = pd.DataFrame(production_log)\n",
    "\n",
    "    # Calculate total simulation time\n",
    "    total_time = env.now\n",
    "\n",
    "    # Calculate resource capacities\n",
    "    labor_capacity = labor.capacity\n",
    "    machine_capacity = machine.capacity\n",
    "\n",
    "    # **Add delivery deadlines to production_results**\n",
    "    production_results = production_results.merge(\n",
    "        production_data[['product_id', 'delivery_deadline']],\n",
    "        on='product_id',\n",
    "        how='left'\n",
    "    )\n",
    "\n",
    "    # Calculate KPIs\n",
    "    kpis = calculate_kpis(production_results, total_time, labor_capacity, machine_capacity)\n",
    "\n",
    "    # Return results and KPIs\n",
    "    return production_results, kpis"
   ]
  },
  {
   "cell_type": "markdown",
   "id": "b1fe43c2-308a-41ec-9c8b-002d3c6c10e0",
   "metadata": {},
   "source": [
    "### Update Event Functions"
   ]
  },
  {
   "cell_type": "code",
   "execution_count": 13,
   "id": "bd6be1fc",
   "metadata": {},
   "outputs": [],
   "source": [
    "def machine_failure_event(env, machine, failure_time, downtime_duration, capacity_reduction):\n",
    "    yield env.timeout(failure_time)\n",
    "    occupy_resource_units(env, machine, downtime_duration, capacity_reduction)\n",
    "\n",
    "def labor_shortage_event(env, labor, shortage_time, shortage_duration, capacity_reduction):\n",
    "    yield env.timeout(shortage_time)\n",
    "    occupy_resource_units(env, labor, shortage_duration, capacity_reduction)"
   ]
  },
  {
   "cell_type": "markdown",
   "id": "65bf1eef-8a77-47b7-b27b-8db3b689479d",
   "metadata": {},
   "source": [
    "### Helper Functions"
   ]
  },
  {
   "cell_type": "code",
   "execution_count": 14,
   "id": "4a63a76c",
   "metadata": {},
   "outputs": [],
   "source": [
    "def occupy_resource_units(env, resource, duration, units):\n",
    "    for _ in range(int(units)):\n",
    "        env.process(occupy_and_release_unit(env, resource, duration))\n",
    "\n",
    "def occupy_and_release_unit(env, resource, duration):\n",
    "    with resource.request(priority=0) as req:\n",
    "        yield req\n",
    "        yield env.timeout(duration)"
   ]
  },
  {
   "cell_type": "markdown",
   "id": "37c4ed3c-d57f-4613-bc0e-4f8291210bb5",
   "metadata": {},
   "source": [
    "## Run Simulations for Each Scenario"
   ]
  },
  {
   "cell_type": "code",
   "execution_count": 15,
   "id": "5551f510",
   "metadata": {},
   "outputs": [],
   "source": [
    "# Dictionary to store scenario results\n",
    "all_scenario_results = {}\n",
    "\n",
    "# Base Scenario\n",
    "base_results, base_kpis = run_simulation(\n",
    "    scenario_name='Base Scenario',\n",
    "    production_data=production_data.copy()\n",
    ")\n",
    "all_scenario_results['Base Scenario'] = (base_results, base_kpis)\n",
    "\n",
    "# Scenario 1: Increased Demand\n",
    "scenario1_results, scenario1_kpis = run_simulation(\n",
    "    scenario_name='Increased Demand',\n",
    "    production_data=production_data.copy(),\n",
    "    demand_factor=1.2  # Increase demand by 20%\n",
    ")\n",
    "all_scenario_results['Increased Demand'] = (scenario1_results, scenario1_kpis)\n",
    "\n",
    "# Scenario 2: Equipment Failure\n",
    "machine_failure_params = {\n",
    "    'failure_time': 5 * 24,           # Time when failure occurs (in hours)\n",
    "    'downtime_duration': 3 * 24,      # Duration of downtime (in hours)\n",
    "    'capacity_reduction': 1           # Number of machines that fail\n",
    "}\n",
    "scenario2_results, scenario2_kpis = run_simulation(\n",
    "    scenario_name='Equipment Failure',\n",
    "    production_data=production_data.copy(),\n",
    "    machine_failure=machine_failure_params\n",
    ")\n",
    "all_scenario_results['Equipment Failure'] = (scenario2_results, scenario2_kpis)\n",
    "\n",
    "# Scenario 3: Labor Shortage\n",
    "labor_shortage_params = {\n",
    "    'shortage_time': 10 * 24,         # Time when shortage occurs (in hours)\n",
    "    'shortage_duration': 5 * 24,      # Duration of shortage (in hours)\n",
    "    'capacity_reduction': 5           # Number of labor units reduced\n",
    "}\n",
    "scenario3_results, scenario3_kpis = run_simulation(\n",
    "    scenario_name='Labor Shortage',\n",
    "    production_data=production_data.copy(),\n",
    "    labor_shortage=labor_shortage_params\n",
    ")\n",
    "all_scenario_results['Labor Shortage'] = (scenario3_results, scenario3_kpis)\n",
    "\n",
    "# Scenario 4: Order Prioritization\n",
    "high_margin_products = [101, 102, 103]  # Replace with actual product_ids\n",
    "scenario4_results, scenario4_kpis = run_simulation(\n",
    "    scenario_name='Order Prioritization',\n",
    "    production_data=production_data.copy(),\n",
    "    prioritize_products=high_margin_products\n",
    ")\n",
    "all_scenario_results['Order Prioritization'] = (scenario4_results, scenario4_kpis)"
   ]
  },
  {
   "cell_type": "markdown",
   "id": "c207830a-804f-4c98-b3d1-6d22e709a99d",
   "metadata": {},
   "source": [
    "## Analyze and Present Results"
   ]
  },
  {
   "cell_type": "markdown",
   "id": "4ab9cadc-cca6-4e8a-aa57-10db015ec7fb",
   "metadata": {},
   "source": [
    "### Print KPI Results"
   ]
  },
  {
   "cell_type": "code",
   "execution_count": 17,
   "id": "c487a6ed",
   "metadata": {},
   "outputs": [
    {
     "name": "stdout",
     "output_type": "stream",
     "text": [
      "\n",
      "Scenario: Base Scenario\n",
      "On-Time Delivery Rate: 41.93%\n",
      "Machine Utilization: 12.08%\n",
      "Labor Utilization: 19.58%\n",
      "Average Throughput Time: 126.57 hours\n",
      "\n",
      "Scenario: Increased Demand\n",
      "On-Time Delivery Rate: 41.34%\n",
      "Machine Utilization: 12.08%\n",
      "Labor Utilization: 19.58%\n",
      "Average Throughput Time: 151.88 hours\n",
      "\n",
      "Scenario: Equipment Failure\n",
      "On-Time Delivery Rate: 41.93%\n",
      "Machine Utilization: 12.08%\n",
      "Labor Utilization: 19.58%\n",
      "Average Throughput Time: 126.57 hours\n",
      "\n",
      "Scenario: Labor Shortage\n",
      "On-Time Delivery Rate: 41.93%\n",
      "Machine Utilization: 7.25%\n",
      "Labor Utilization: 11.75%\n",
      "Average Throughput Time: 126.57 hours\n",
      "\n",
      "Scenario: Order Prioritization\n",
      "On-Time Delivery Rate: 41.93%\n",
      "Machine Utilization: 12.08%\n",
      "Labor Utilization: 19.58%\n",
      "Average Throughput Time: 126.57 hours\n"
     ]
    }
   ],
   "source": [
    "for scenario_name, (results, kpis) in all_scenario_results.items():\n",
    "    print(f\"\\nScenario: {scenario_name}\")\n",
    "    print(f\"On-Time Delivery Rate: {kpis['on_time_delivery_rate']:.2f}%\")\n",
    "    print(f\"Machine Utilization: {kpis['machine_utilization']:.2f}%\")\n",
    "    print(f\"Labor Utilization: {kpis['labor_utilization']:.2f}%\")\n",
    "    print(f\"Average Throughput Time: {kpis['average_throughput_time']:.2f} hours\")"
   ]
  },
  {
   "cell_type": "markdown",
   "id": "ed8082ff-e659-4a00-a4f2-0a1a8a09cec3",
   "metadata": {},
   "source": [
    "### Visualize Results "
   ]
  },
  {
   "cell_type": "code",
   "execution_count": 18,
   "id": "14b6a8d8",
   "metadata": {},
   "outputs": [
    {
     "data": {
      "image/png": "[encoded data removed]",
      "text/plain": [
       "<Figure size 1000x600 with 1 Axes>"
      ]
     },
     "metadata": {},
     "output_type": "display_data"
    }
   ],
   "source": [
    "# Prepare data for visualization\n",
    "kpi_names = ['on_time_delivery_rate', 'machine_utilization', 'labor_utilization'] \n",
    "kpi_labels = ['On-Time Delivery Rate (%)', 'Machine Utilization (%)', 'Labor Utilization (%)']\n",
    "\n",
    "# Create a DataFrame for KPIs\n",
    "kpi_data = pd.DataFrame({\n",
    "    scenario_name: [kpis[kpi] for kpi in kpi_names]\n",
    "    for scenario_name, (results, kpis) in all_scenario_results.items()\n",
    "}, index=kpi_labels)\n",
    "\n",
    "# Transpose for plotting\n",
    "kpi_data = kpi_data.transpose()\n",
    "\n",
    "# Plot KPIs\n",
    "kpi_data.plot(kind='bar', figsize=(10, 6))\n",
    "plt.title('KPI Comparison Across Scenarios')\n",
    "plt.ylabel('Percentage')\n",
    "plt.xticks(rotation=45)\n",
    "plt.legend(loc='best')\n",
    "plt.tight_layout()\n",
    "plt.show()"
   ]
  }
 ],
 "metadata": {
  "kernelspec": {
   "display_name": "Python 3 (ipykernel)",
   "language": "python",
   "name": "python3"
  },
  "language_info": {
   "codemirror_mode": {
    "name": "ipython",
    "version": 3
   },
   "file_extension": ".py",
   "mimetype": "text/x-python",
   "name": "python",
   "nbconvert_exporter": "python",
   "pygments_lexer": "ipython3",
   "version": "3.8.19"
  }
 },
 "nbformat": 4,
 "nbformat_minor": 5
}
